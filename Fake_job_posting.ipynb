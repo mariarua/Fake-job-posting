{
  "nbformat": 4,
  "nbformat_minor": 0,
  "metadata": {
    "colab": {
      "provenance": [],
      "authorship_tag": "ABX9TyOutxg/NYHTQbT1P4DM/iAN",
      "include_colab_link": true
    },
    "kernelspec": {
      "name": "python3",
      "display_name": "Python 3"
    },
    "language_info": {
      "name": "python"
    }
  },
  "cells": [
    {
      "cell_type": "markdown",
      "metadata": {
        "id": "view-in-github",
        "colab_type": "text"
      },
      "source": [
        "<a href=\"https://colab.research.google.com/github/mariarua/Fake-job-posting/blob/main/Fake_job_posting.ipynb\" target=\"_parent\"><img src=\"https://colab.research.google.com/assets/colab-badge.svg\" alt=\"Open In Colab\"/></a>"
      ]
    },
    {
      "cell_type": "code",
      "execution_count": 2,
      "metadata": {
        "id": "Xz_JbsyME2-t"
      },
      "outputs": [],
      "source": [
        "import numpy as np\n",
        "import pandas as pd\n",
        "import re"
      ]
    },
    {
      "cell_type": "code",
      "source": [
        "import nltk\n",
        "from nltk.corpus import stopwords"
      ],
      "metadata": {
        "id": "oJCmuPB8GQcW"
      },
      "execution_count": 3,
      "outputs": []
    },
    {
      "cell_type": "code",
      "source": [
        "from google.colab import drive\n",
        "drive.mount('/content/drive')"
      ],
      "metadata": {
        "id": "er7amBeRYm-X",
        "outputId": "2d348962-aa96-40ed-b005-06d8c44309da",
        "colab": {
          "base_uri": "https://localhost:8080/"
        }
      },
      "execution_count": 19,
      "outputs": [
        {
          "output_type": "stream",
          "name": "stdout",
          "text": [
            "Mounted at /content/drive\n"
          ]
        }
      ]
    },
    {
      "cell_type": "code",
      "source": [
        "!git clone https://github.com/mariarua/Fake-job-posting /content/drive/MyDrive/fake_job_posting"
      ],
      "metadata": {
        "id": "Lc_VAZIzYwPi",
        "outputId": "f4bc518c-ae52-4d5e-f682-e670a1175ef5",
        "colab": {
          "base_uri": "https://localhost:8080/"
        }
      },
      "execution_count": 20,
      "outputs": [
        {
          "output_type": "stream",
          "name": "stdout",
          "text": [
            "Cloning into '/content/drive/MyDrive/fake_job_posting'...\n",
            "remote: Enumerating objects: 45, done.\u001b[K\n",
            "remote: Counting objects: 100% (45/45), done.\u001b[K\n",
            "remote: Compressing objects: 100% (37/37), done.\u001b[K\n",
            "remote: Total 45 (delta 17), reused 20 (delta 5), pack-reused 0\u001b[K\n",
            "Unpacking objects: 100% (45/45), 16.01 MiB | 5.07 MiB/s, done.\n"
          ]
        }
      ]
    },
    {
      "cell_type": "code",
      "source": [
        "Jobs_Dataset = pd.read_csv('/content/drive/MyDrive/fake_job_posting/fake_job_postings.csv')\n",
        "jobs_DS = Jobs_Dataset.copy()"
      ],
      "metadata": {
        "id": "z2B63bidGjTa"
      },
      "execution_count": 21,
      "outputs": []
    },
    {
      "cell_type": "markdown",
      "source": [
        "**Exploración de datos**"
      ],
      "metadata": {
        "id": "4xVhcA9RTDl2"
      }
    },
    {
      "cell_type": "markdown",
      "source": [
        "Comenzaremos buscando aquellas características que tenga en 60% de los datos en null y las quitares de nuestro dataset"
      ],
      "metadata": {
        "id": "aSUUSfySWWLu"
      }
    },
    {
      "cell_type": "code",
      "source": [
        "jobs_DS.isnull().mean()<0.4"
      ],
      "metadata": {
        "id": "uqxokIqDTBK7",
        "outputId": "ca35dba2-ade8-4683-c2ec-5dd381374348",
        "colab": {
          "base_uri": "https://localhost:8080/"
        }
      },
      "execution_count": 24,
      "outputs": [
        {
          "output_type": "execute_result",
          "data": {
            "text/plain": [
              "job_id                  True\n",
              "title                   True\n",
              "location                True\n",
              "department             False\n",
              "salary_range           False\n",
              "company_profile         True\n",
              "description             True\n",
              "requirements            True\n",
              "benefits               False\n",
              "telecommuting           True\n",
              "has_company_logo        True\n",
              "has_questions           True\n",
              "employment_type         True\n",
              "required_experience     True\n",
              "required_education     False\n",
              "industry                True\n",
              "function                True\n",
              "fraudulent              True\n",
              "dtype: bool"
            ]
          },
          "metadata": {},
          "execution_count": 24
        }
      ]
    },
    {
      "cell_type": "code",
      "source": [
        "jobs_DS= jobs_DS[jobs_DS.columns[jobs_DS.isnull().mean()<0.4]]"
      ],
      "metadata": {
        "id": "9sqObmpkUeus"
      },
      "execution_count": null,
      "outputs": []
    },
    {
      "cell_type": "markdown",
      "source": [
        "Después de esto rellenaremos el null por un string vacío"
      ],
      "metadata": {
        "id": "Y2Q8JVltXB2a"
      }
    },
    {
      "cell_type": "code",
      "source": [
        "jobs_DS.fillna('',inplace=True)"
      ],
      "metadata": {
        "id": "6byuYivcXO3d"
      },
      "execution_count": null,
      "outputs": []
    },
    {
      "cell_type": "markdown",
      "source": [
        "Eliminaremos algunas columnas de nuestro dataset debido a que no son muy útiles para lo que deseamos realizar"
      ],
      "metadata": {
        "id": "t42xojBvTLtR"
      }
    },
    {
      "cell_type": "code",
      "source": [
        "jobs_DS.drop(columns=['telecommuting','has_company_logo','has_questions','job_id'], inplace=True)"
      ],
      "metadata": {
        "id": "8eJxdm3ag1UO"
      },
      "execution_count": null,
      "outputs": []
    },
    {
      "cell_type": "markdown",
      "source": [
        "Para procesar el texto vamos a colocar todos las características juntas en una columna que llamaremos text. Y eliminaremos el resto de las columnas, de este modo tendremos todas las características en un mismo lugar"
      ],
      "metadata": {
        "id": "lx_vR5OPjltU"
      }
    },
    {
      "cell_type": "code",
      "source": [
        "jobs_DS['text'] = jobs_DS['title']+\" \"+jobs_DS['location']+\" \"+jobs_DS['company_profile']+\" \"+jobs_DS['description']+\" \"+jobs_DS['requirements']+\" \"+jobs_DS['employment_type']+\" \"+jobs_DS['required_experience']+\" \"+jobs_DS['industry']+\" \"+jobs_DS['function']"
      ],
      "metadata": {
        "id": "3HOforNihLfu"
      },
      "execution_count": null,
      "outputs": []
    },
    {
      "cell_type": "code",
      "source": [
        "jobs_DS.drop(columns=['title','location','company_profile','description','requirements','employment_type','required_experience','industry','function'],inplace=True)"
      ],
      "metadata": {
        "id": "Ers55UncjdbN"
      },
      "execution_count": null,
      "outputs": []
    },
    {
      "cell_type": "markdown",
      "source": [
        "Luego vamos a reemplazar los saltos de línea, salto de linea y retorno, y los espacios que son tabs"
      ],
      "metadata": {
        "id": "OYGZkkigwN-K"
      }
    },
    {
      "cell_type": "code",
      "source": [
        "jobs_DS['text'] = jobs_DS['text'].str.replace('\\n', ' ')\n",
        "jobs_DS['text'] = jobs_DS['text'].str.replace('\\r', ' ')\n",
        "jobs_DS['text'] = jobs_DS['text'].str.replace('\\t', ' ')"
      ],
      "metadata": {
        "id": "-_UFslgYyLec"
      },
      "execution_count": null,
      "outputs": []
    },
    {
      "cell_type": "markdown",
      "source": [
        "Ahora, vamos a remover los números y los caracteres especiales"
      ],
      "metadata": {
        "id": "TwcU9b8CzHfe"
      }
    },
    {
      "cell_type": "code",
      "source": [
        "jobs_DS['text'] = jobs_DS['text'].apply(lambda x: re.sub(r'[0-9]',' ',x))\n",
        "jobs_DS['text'] = jobs_DS['text'].apply(lambda x: re.sub(r'[/(){}\\[\\]\\|@,;.:-]',' ',x))"
      ],
      "metadata": {
        "id": "-rk3ykT5zFdD"
      },
      "execution_count": null,
      "outputs": []
    },
    {
      "cell_type": "markdown",
      "source": [
        "Y colocar todo el texto en minúsculas "
      ],
      "metadata": {
        "id": "3uHBc5A5z0K4"
      }
    },
    {
      "cell_type": "code",
      "source": [
        "jobs_DS['text']= jobs_DS['text'].apply(lambda s:s.lower() if type(s) == str else s)"
      ],
      "metadata": {
        "id": "cwE5zr9jz66N"
      },
      "execution_count": null,
      "outputs": []
    }
  ]
}