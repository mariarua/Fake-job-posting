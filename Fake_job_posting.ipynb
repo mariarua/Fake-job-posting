{
  "nbformat": 4,
  "nbformat_minor": 0,
  "metadata": {
    "colab": {
      "provenance": [],
      "authorship_tag": "ABX9TyOmOUjivqSGMSHivM4zBz2v",
      "include_colab_link": true
    },
    "kernelspec": {
      "name": "python3",
      "display_name": "Python 3"
    },
    "language_info": {
      "name": "python"
    }
  },
  "cells": [
    {
      "cell_type": "markdown",
      "metadata": {
        "id": "view-in-github",
        "colab_type": "text"
      },
      "source": [
        "<a href=\"https://colab.research.google.com/github/mariarua/Fake-job-posting/blob/main/Fake_job_posting.ipynb\" target=\"_parent\"><img src=\"https://colab.research.google.com/assets/colab-badge.svg\" alt=\"Open In Colab\"/></a>"
      ]
    },
    {
      "cell_type": "code",
      "execution_count": 1,
      "metadata": {
        "id": "Xz_JbsyME2-t"
      },
      "outputs": [],
      "source": [
        "import numpy as np\n",
        "import pandas as pd\n",
        "import re"
      ]
    },
    {
      "cell_type": "code",
      "source": [
        "import nltk\n",
        "from nltk.corpus import stopwords"
      ],
      "metadata": {
        "id": "oJCmuPB8GQcW"
      },
      "execution_count": 2,
      "outputs": []
    },
    {
      "cell_type": "code",
      "source": [
        "from google.colab import drive\n",
        "drive.mount('/content/drive')"
      ],
      "metadata": {
        "id": "er7amBeRYm-X",
        "outputId": "d298713e-04cf-44f3-fa12-9716509356e3",
        "colab": {
          "base_uri": "https://localhost:8080/"
        }
      },
      "execution_count": 3,
      "outputs": [
        {
          "output_type": "stream",
          "name": "stdout",
          "text": [
            "Mounted at /content/drive\n"
          ]
        }
      ]
    },
    {
      "cell_type": "code",
      "source": [
        "!git clone https://github.com/mariarua/Fake-job-posting /content/drive/MyDrive/fake_job_posting"
      ],
      "metadata": {
        "id": "Lc_VAZIzYwPi",
        "outputId": "2a2054d4-a50b-4284-917d-591e2c7e78a3",
        "colab": {
          "base_uri": "https://localhost:8080/"
        }
      },
      "execution_count": 4,
      "outputs": [
        {
          "output_type": "stream",
          "name": "stdout",
          "text": [
            "fatal: destination path '/content/drive/MyDrive/fake_job_posting' already exists and is not an empty directory.\n"
          ]
        }
      ]
    },
    {
      "cell_type": "code",
      "source": [
        "Jobs_Dataset = pd.read_csv('/content/drive/MyDrive/fake_job_posting/fake_job_postings.csv')\n",
        "jobs_DS = Jobs_Dataset.copy()"
      ],
      "metadata": {
        "id": "z2B63bidGjTa"
      },
      "execution_count": 5,
      "outputs": []
    },
    {
      "cell_type": "markdown",
      "source": [
        "**Exploración de datos**"
      ],
      "metadata": {
        "id": "4xVhcA9RTDl2"
      }
    },
    {
      "cell_type": "markdown",
      "source": [
        "Comenzaremos buscando aquellas características que tenga en 60% de los datos en null y las quitares de nuestro dataset"
      ],
      "metadata": {
        "id": "aSUUSfySWWLu"
      }
    },
    {
      "cell_type": "code",
      "source": [
        "jobs_DS.isnull().mean()<0.4"
      ],
      "metadata": {
        "id": "uqxokIqDTBK7",
        "outputId": "362e3f0b-2687-417d-d0a5-8df8b9ff464d",
        "colab": {
          "base_uri": "https://localhost:8080/"
        }
      },
      "execution_count": 6,
      "outputs": [
        {
          "output_type": "execute_result",
          "data": {
            "text/plain": [
              "job_id                  True\n",
              "title                   True\n",
              "location                True\n",
              "department             False\n",
              "salary_range           False\n",
              "company_profile         True\n",
              "description             True\n",
              "requirements            True\n",
              "benefits               False\n",
              "telecommuting           True\n",
              "has_company_logo        True\n",
              "has_questions           True\n",
              "employment_type         True\n",
              "required_experience     True\n",
              "required_education     False\n",
              "industry                True\n",
              "function                True\n",
              "fraudulent              True\n",
              "dtype: bool"
            ]
          },
          "metadata": {},
          "execution_count": 6
        }
      ]
    },
    {
      "cell_type": "code",
      "source": [
        "jobs_DS= jobs_DS[jobs_DS.columns[jobs_DS.isnull().mean()<0.4]]"
      ],
      "metadata": {
        "id": "9sqObmpkUeus"
      },
      "execution_count": 7,
      "outputs": []
    },
    {
      "cell_type": "markdown",
      "source": [
        "Después de esto rellenaremos el null por un string vacío"
      ],
      "metadata": {
        "id": "Y2Q8JVltXB2a"
      }
    },
    {
      "cell_type": "code",
      "source": [
        "jobs_DS.fillna('',inplace=True)"
      ],
      "metadata": {
        "id": "6byuYivcXO3d"
      },
      "execution_count": 8,
      "outputs": []
    },
    {
      "cell_type": "markdown",
      "source": [
        "Eliminaremos algunas columnas de nuestro dataset debido a que no son muy útiles para lo que deseamos realizar"
      ],
      "metadata": {
        "id": "t42xojBvTLtR"
      }
    },
    {
      "cell_type": "code",
      "source": [
        "jobs_DS.drop(columns=['telecommuting','has_company_logo','has_questions','job_id'], inplace=True)"
      ],
      "metadata": {
        "id": "8eJxdm3ag1UO"
      },
      "execution_count": 9,
      "outputs": []
    },
    {
      "cell_type": "markdown",
      "source": [
        "Para procesar el texto vamos a colocar todos las características juntas en una columna que llamaremos text. Y eliminaremos el resto de las columnas, de este modo tendremos todas las características en un mismo lugar"
      ],
      "metadata": {
        "id": "lx_vR5OPjltU"
      }
    },
    {
      "cell_type": "code",
      "source": [
        "jobs_DS['text'] = jobs_DS['title']+\" \"+jobs_DS['location']+\" \"+jobs_DS['company_profile']+\" \"+jobs_DS['description']+\" \"+jobs_DS['requirements']+\" \"+jobs_DS['employment_type']+\" \"+jobs_DS['required_experience']+\" \"+jobs_DS['industry']+\" \"+jobs_DS['function']"
      ],
      "metadata": {
        "id": "3HOforNihLfu"
      },
      "execution_count": 10,
      "outputs": []
    },
    {
      "cell_type": "code",
      "source": [
        "jobs_DS.drop(columns=['title','location','company_profile','description','requirements','employment_type','required_experience','industry','function'],inplace=True)"
      ],
      "metadata": {
        "id": "Ers55UncjdbN"
      },
      "execution_count": 11,
      "outputs": []
    },
    {
      "cell_type": "markdown",
      "source": [
        "Luego vamos a reemplazar los saltos de línea, salto de linea y retorno, y los espacios que son tabs"
      ],
      "metadata": {
        "id": "OYGZkkigwN-K"
      }
    },
    {
      "cell_type": "code",
      "source": [
        "jobs_DS['text'] = jobs_DS['text'].str.replace('\\n', ' ')\n",
        "jobs_DS['text'] = jobs_DS['text'].str.replace('\\r', ' ')\n",
        "jobs_DS['text'] = jobs_DS['text'].str.replace('\\t', ' ')"
      ],
      "metadata": {
        "id": "-_UFslgYyLec"
      },
      "execution_count": 12,
      "outputs": []
    },
    {
      "cell_type": "markdown",
      "source": [
        "Ahora, vamos a remover los números y los caracteres especiales"
      ],
      "metadata": {
        "id": "TwcU9b8CzHfe"
      }
    },
    {
      "cell_type": "code",
      "source": [
        "jobs_DS['text'] = jobs_DS['text'].apply(lambda x: re.sub(r'[0-9]',' ',x))\n",
        "jobs_DS['text'] = jobs_DS['text'].apply(lambda x: re.sub(r'[/(){}\\[\\]\\|@,;.:-]',' ',x))"
      ],
      "metadata": {
        "id": "-rk3ykT5zFdD"
      },
      "execution_count": 13,
      "outputs": []
    },
    {
      "cell_type": "markdown",
      "source": [
        "Y colocar todo el texto en minúsculas "
      ],
      "metadata": {
        "id": "3uHBc5A5z0K4"
      }
    },
    {
      "cell_type": "code",
      "source": [
        "jobs_DS['text']= jobs_DS['text'].apply(lambda s:s.lower() if type(s) == str else s)"
      ],
      "metadata": {
        "id": "cwE5zr9jz66N"
      },
      "execution_count": 14,
      "outputs": []
    },
    {
      "cell_type": "markdown",
      "source": [
        "Después, comprobaremos que son strings, en caso de que si se divide el string en una lista de palabras"
      ],
      "metadata": {
        "id": "SOKzo5qFVEks"
      }
    },
    {
      "cell_type": "code",
      "source": [
        "jobs_DS['text']= jobs_DS['text'].apply(lambda s:\" \".join(s.split()) if type(s) == str else s)"
      ],
      "metadata": {
        "id": "h5duWoQIWQ-L"
      },
      "execution_count": 15,
      "outputs": []
    },
    {
      "cell_type": "markdown",
      "source": [
        " **STOPWORDS**\n",
        "\n",
        " Son aquellas palabras vacías, que no se encuentran registradas por los robots de Google. Son palabras que no tienen significado alguno y que por ese motivo los buscadores no las consideran a la hora de posicionar el contenido \n",
        "\n",
        " Descargaremos las stopwords de nltk para limpiar nuestro conjunto de datos de estas palabras que no nos agregan valor a nuestro modelo"
      ],
      "metadata": {
        "id": "G63nUgNBXL2M"
      }
    },
    {
      "cell_type": "code",
      "source": [
        "nltk.download('stopwords')\n",
        "stop_words = set(stopwords.words('english'))"
      ],
      "metadata": {
        "id": "JDBRBNAcXTMk",
        "outputId": "9495fa29-ade2-440a-e330-bcc0b15ccc66",
        "colab": {
          "base_uri": "https://localhost:8080/"
        }
      },
      "execution_count": 16,
      "outputs": [
        {
          "output_type": "stream",
          "name": "stderr",
          "text": [
            "[nltk_data] Downloading package stopwords to /root/nltk_data...\n",
            "[nltk_data]   Unzipping corpora/stopwords.zip.\n"
          ]
        }
      ]
    },
    {
      "cell_type": "code",
      "source": [
        "jobs_DS['text'] = jobs_DS['text'].apply(lambda x:' '.join([word for word in x.split() if word not in (stop_words)]))"
      ],
      "metadata": {
        "id": "oiS7YWFHXok-"
      },
      "execution_count": 17,
      "outputs": []
    },
    {
      "cell_type": "markdown",
      "source": [
        "Ahora con la función one_hot() vamos a generar una representación numérica de nuestro texto, dandole 5000 numeros de clases para el vocubulario. \n",
        "\n",
        "Con pad_sequences vamos a ajustar la secuencia a 40, rellenando las que son menores de 40.\n",
        "\n",
        "Con esto vamos a representar numericamente las descripciones de ofertas trabajo manteniendo la misma longitud.\n",
        "\n"
      ],
      "metadata": {
        "id": "yfAUSxV8D9kH"
      }
    },
    {
      "cell_type": "code",
      "source": [
        "from tensorflow.keras.preprocessing.text import one_hot\n",
        "from tensorflow.keras.preprocessing.sequence import pad_sequences\n",
        "\n",
        "one_hot_x = [one_hot(description,5000) for description in jobs_DS['text']]\n",
        "max_l = 40\n",
        "embedded_description = pad_sequences(one_hot_x,max_l)"
      ],
      "metadata": {
        "id": "3l3JYQXOD_S8"
      },
      "execution_count": 18,
      "outputs": []
    },
    {
      "cell_type": "markdown",
      "source": [
        "Definiremos entonces las metricas necesarias para empezar a evaluar nuestro algoritmo"
      ],
      "metadata": {
        "id": "Wwk_FihHKPiY"
      }
    },
    {
      "cell_type": "code",
      "source": [
        "import keras\n",
        "\n",
        "METRICS = [\n",
        "      keras.metrics.TruePositives(name='tp'),\n",
        "      keras.metrics.FalsePositives(name='fp'),\n",
        "      keras.metrics.TrueNegatives(name='tn'),\n",
        "      keras.metrics.FalseNegatives(name='fn'), \n",
        "      keras.metrics.BinaryAccuracy(name='accuracy'),\n",
        "      keras.metrics.Precision(name='precision'),\n",
        "      keras.metrics.Recall(name='recall'),\n",
        "      keras.metrics.AUC(name='auc'),\n",
        "      keras.metrics.AUC(name='prc', curve='PR')\n",
        "]"
      ],
      "metadata": {
        "id": "DwB4pUN6IH8F"
      },
      "execution_count": 19,
      "outputs": []
    },
    {
      "cell_type": "markdown",
      "source": [
        "Contruiremos un modelo de red neuronal secuencial para el procesamiento de la oferta de trabajo. Utilizaremos capas de incrustación, capas de LSTM bidireccionales, capas de dropout y capas densas para modelar"
      ],
      "metadata": {
        "id": "90bV-Q2crFOY"
      }
    },
    {
      "cell_type": "code",
      "source": [
        "from tensorflow.keras.models import Sequential\n",
        "from tensorflow.keras.layers import Embedding\n",
        "from tensorflow.keras.layers import LSTM\n",
        "from tensorflow.keras.layers import Bidirectional\n",
        "from tensorflow.keras.layers import Dropout\n",
        "from tensorflow.keras.layers import Dense\n",
        "\n",
        "model = Sequential()\n",
        "model.add(Embedding(5000,40,'uniform',input_length=max_l))\n",
        "model.add(Bidirectional(LSTM(100)))\n",
        "model.add(Dropout(0.3))\n",
        "model.add(Dense(1, activation='sigmoid'))\n",
        "model.compile(loss='binary_crossentropy',optimizer='adam',metrics=METRICS)\n",
        "print(model.summary())"
      ],
      "metadata": {
        "id": "mEppCCj6Kakt",
        "outputId": "cb18d38a-6346-4c63-89cc-99e537e407a3",
        "colab": {
          "base_uri": "https://localhost:8080/"
        }
      },
      "execution_count": 20,
      "outputs": [
        {
          "output_type": "stream",
          "name": "stdout",
          "text": [
            "Model: \"sequential\"\n",
            "_________________________________________________________________\n",
            " Layer (type)                Output Shape              Param #   \n",
            "=================================================================\n",
            " embedding (Embedding)       (None, 40, 40)            200000    \n",
            "                                                                 \n",
            " bidirectional (Bidirectiona  (None, 200)              112800    \n",
            " l)                                                              \n",
            "                                                                 \n",
            " dropout (Dropout)           (None, 200)               0         \n",
            "                                                                 \n",
            " dense (Dense)               (None, 1)                 201       \n",
            "                                                                 \n",
            "=================================================================\n",
            "Total params: 313,001\n",
            "Trainable params: 313,001\n",
            "Non-trainable params: 0\n",
            "_________________________________________________________________\n",
            "None\n"
          ]
        }
      ]
    },
    {
      "cell_type": "code",
      "source": [
        "X = np.array(embedded_description)\n",
        "Y = np.array(jobs_DS['fraudulent'])"
      ],
      "metadata": {
        "id": "Au391aoVLQRk"
      },
      "execution_count": 21,
      "outputs": []
    },
    {
      "cell_type": "markdown",
      "source": [
        "Implementaremos validación cruzada"
      ],
      "metadata": {
        "id": "PrGqS1ISuOGl"
      }
    },
    {
      "cell_type": "code",
      "source": [
        "from sklearn.model_selection import KFold\n",
        "\n",
        "kf = KFold(n_splits=3)\n",
        "\n",
        "for train_index, test_index in kf.split(X):\n",
        "    \n",
        "    X_train, X_test = X[train_index], X[test_index]\n",
        "    y_train, y_test = Y[train_index], Y[test_index]  \n",
        "\n",
        "    model.fit(X_train,y_train, validation_data=(X_test,y_test), epochs=6, batch_size=30)\n"
      ],
      "metadata": {
        "id": "cLBo3TjnLSsg",
        "outputId": "bebe7b9f-0513-4b8e-9149-35e702e07548",
        "colab": {
          "base_uri": "https://localhost:8080/"
        }
      },
      "execution_count": 22,
      "outputs": [
        {
          "output_type": "stream",
          "name": "stdout",
          "text": [
            "Epoch 1/6\n",
            "398/398 [==============================] - 43s 93ms/step - loss: 0.1641 - tp: 131.0000 - fp: 37.0000 - tn: 11273.0000 - fn: 479.0000 - accuracy: 0.9567 - precision: 0.7798 - recall: 0.2148 - auc: 0.7944 - prc: 0.3686 - val_loss: 0.1106 - val_tp: 98.0000 - val_fp: 34.0000 - val_tn: 5670.0000 - val_fn: 158.0000 - val_accuracy: 0.9678 - val_precision: 0.7424 - val_recall: 0.3828 - val_auc: 0.8882 - val_prc: 0.5483\n",
            "Epoch 2/6\n",
            "398/398 [==============================] - 40s 102ms/step - loss: 0.0689 - tp: 415.0000 - fp: 43.0000 - tn: 11267.0000 - fn: 195.0000 - accuracy: 0.9800 - precision: 0.9061 - recall: 0.6803 - auc: 0.9628 - prc: 0.8326 - val_loss: 0.1472 - val_tp: 144.0000 - val_fp: 147.0000 - val_tn: 5557.0000 - val_fn: 112.0000 - val_accuracy: 0.9565 - val_precision: 0.4948 - val_recall: 0.5625 - val_auc: 0.8947 - val_prc: 0.5636\n",
            "Epoch 3/6\n",
            "398/398 [==============================] - 36s 89ms/step - loss: 0.0380 - tp: 520.0000 - fp: 32.0000 - tn: 11278.0000 - fn: 90.0000 - accuracy: 0.9898 - precision: 0.9420 - recall: 0.8525 - auc: 0.9839 - prc: 0.9328 - val_loss: 0.1339 - val_tp: 119.0000 - val_fp: 26.0000 - val_tn: 5678.0000 - val_fn: 137.0000 - val_accuracy: 0.9727 - val_precision: 0.8207 - val_recall: 0.4648 - val_auc: 0.8261 - val_prc: 0.6018\n",
            "Epoch 4/6\n",
            "398/398 [==============================] - 35s 89ms/step - loss: 0.0198 - tp: 562.0000 - fp: 19.0000 - tn: 11291.0000 - fn: 48.0000 - accuracy: 0.9944 - precision: 0.9673 - recall: 0.9213 - auc: 0.9947 - prc: 0.9765 - val_loss: 0.1314 - val_tp: 121.0000 - val_fp: 21.0000 - val_tn: 5683.0000 - val_fn: 135.0000 - val_accuracy: 0.9738 - val_precision: 0.8521 - val_recall: 0.4727 - val_auc: 0.8322 - val_prc: 0.6189\n",
            "Epoch 5/6\n",
            "398/398 [==============================] - 36s 90ms/step - loss: 0.0098 - tp: 584.0000 - fp: 8.0000 - tn: 11302.0000 - fn: 26.0000 - accuracy: 0.9971 - precision: 0.9865 - recall: 0.9574 - auc: 0.9972 - prc: 0.9928 - val_loss: 0.1527 - val_tp: 138.0000 - val_fp: 105.0000 - val_tn: 5599.0000 - val_fn: 118.0000 - val_accuracy: 0.9626 - val_precision: 0.5679 - val_recall: 0.5391 - val_auc: 0.8503 - val_prc: 0.5923\n",
            "Epoch 6/6\n",
            "398/398 [==============================] - 35s 89ms/step - loss: 0.0056 - tp: 597.0000 - fp: 5.0000 - tn: 11305.0000 - fn: 13.0000 - accuracy: 0.9985 - precision: 0.9917 - recall: 0.9787 - auc: 0.9991 - prc: 0.9969 - val_loss: 0.1923 - val_tp: 132.0000 - val_fp: 66.0000 - val_tn: 5638.0000 - val_fn: 124.0000 - val_accuracy: 0.9681 - val_precision: 0.6667 - val_recall: 0.5156 - val_auc: 0.8112 - val_prc: 0.5507\n",
            "Epoch 1/6\n",
            "398/398 [==============================] - 38s 95ms/step - loss: 0.0608 - tp: 481.0000 - fp: 38.0000 - tn: 11265.0000 - fn: 136.0000 - accuracy: 0.9854 - precision: 0.9268 - recall: 0.7796 - auc: 0.9528 - prc: 0.8676 - val_loss: 0.0175 - val_tp: 241.0000 - val_fp: 4.0000 - val_tn: 5707.0000 - val_fn: 8.0000 - val_accuracy: 0.9980 - val_precision: 0.9837 - val_recall: 0.9679 - val_auc: 0.9994 - val_prc: 0.9945\n",
            "Epoch 2/6\n",
            "398/398 [==============================] - 35s 89ms/step - loss: 0.0359 - tp: 529.0000 - fp: 11.0000 - tn: 11292.0000 - fn: 88.0000 - accuracy: 0.9917 - precision: 0.9796 - recall: 0.8574 - auc: 0.9798 - prc: 0.9371 - val_loss: 0.0133 - val_tp: 219.0000 - val_fp: 2.0000 - val_tn: 5709.0000 - val_fn: 30.0000 - val_accuracy: 0.9946 - val_precision: 0.9910 - val_recall: 0.8795 - val_auc: 0.9995 - val_prc: 0.9917\n",
            "Epoch 3/6\n",
            "398/398 [==============================] - 40s 100ms/step - loss: 0.0224 - tp: 562.0000 - fp: 13.0000 - tn: 11290.0000 - fn: 55.0000 - accuracy: 0.9943 - precision: 0.9774 - recall: 0.9109 - auc: 0.9937 - prc: 0.9715 - val_loss: 0.0188 - val_tp: 222.0000 - val_fp: 15.0000 - val_tn: 5696.0000 - val_fn: 27.0000 - val_accuracy: 0.9930 - val_precision: 0.9367 - val_recall: 0.8916 - val_auc: 0.9987 - val_prc: 0.9764\n",
            "Epoch 4/6\n",
            "398/398 [==============================] - 36s 90ms/step - loss: 0.0079 - tp: 596.0000 - fp: 4.0000 - tn: 11299.0000 - fn: 21.0000 - accuracy: 0.9979 - precision: 0.9933 - recall: 0.9660 - auc: 0.9989 - prc: 0.9951 - val_loss: 0.0230 - val_tp: 214.0000 - val_fp: 9.0000 - val_tn: 5702.0000 - val_fn: 35.0000 - val_accuracy: 0.9926 - val_precision: 0.9596 - val_recall: 0.8594 - val_auc: 0.9942 - val_prc: 0.9596\n",
            "Epoch 5/6\n",
            "398/398 [==============================] - 33s 84ms/step - loss: 0.0046 - tp: 606.0000 - fp: 6.0000 - tn: 11297.0000 - fn: 11.0000 - accuracy: 0.9986 - precision: 0.9902 - recall: 0.9822 - auc: 0.9999 - prc: 0.9986 - val_loss: 0.0236 - val_tp: 217.0000 - val_fp: 11.0000 - val_tn: 5700.0000 - val_fn: 32.0000 - val_accuracy: 0.9928 - val_precision: 0.9518 - val_recall: 0.8715 - val_auc: 0.9962 - val_prc: 0.9615\n",
            "Epoch 6/6\n",
            "398/398 [==============================] - 35s 88ms/step - loss: 0.0023 - tp: 612.0000 - fp: 2.0000 - tn: 11301.0000 - fn: 5.0000 - accuracy: 0.9994 - precision: 0.9967 - recall: 0.9919 - auc: 0.9992 - prc: 0.9985 - val_loss: 0.0488 - val_tp: 171.0000 - val_fp: 5.0000 - val_tn: 5706.0000 - val_fn: 78.0000 - val_accuracy: 0.9861 - val_precision: 0.9716 - val_recall: 0.6867 - val_auc: 0.9525 - val_prc: 0.8957\n",
            "Epoch 1/6\n",
            "398/398 [==============================] - 37s 94ms/step - loss: 0.0191 - tp: 456.0000 - fp: 31.0000 - tn: 11384.0000 - fn: 49.0000 - accuracy: 0.9933 - precision: 0.9363 - recall: 0.9030 - auc: 0.9957 - prc: 0.9717 - val_loss: 0.0030 - val_tp: 357.0000 - val_fp: 2.0000 - val_tn: 5597.0000 - val_fn: 4.0000 - val_accuracy: 0.9990 - val_precision: 0.9944 - val_recall: 0.9889 - val_auc: 1.0000 - val_prc: 0.9998\n",
            "Epoch 2/6\n",
            "398/398 [==============================] - 35s 89ms/step - loss: 0.0032 - tp: 500.0000 - fp: 4.0000 - tn: 11411.0000 - fn: 5.0000 - accuracy: 0.9992 - precision: 0.9921 - recall: 0.9901 - auc: 1.0000 - prc: 0.9993 - val_loss: 0.0043 - val_tp: 357.0000 - val_fp: 2.0000 - val_tn: 5597.0000 - val_fn: 4.0000 - val_accuracy: 0.9990 - val_precision: 0.9944 - val_recall: 0.9889 - val_auc: 1.0000 - val_prc: 0.9995\n",
            "Epoch 3/6\n",
            "398/398 [==============================] - 33s 84ms/step - loss: 0.0021 - tp: 501.0000 - fp: 3.0000 - tn: 11412.0000 - fn: 4.0000 - accuracy: 0.9994 - precision: 0.9940 - recall: 0.9921 - auc: 1.0000 - prc: 0.9997 - val_loss: 0.0064 - val_tp: 354.0000 - val_fp: 3.0000 - val_tn: 5596.0000 - val_fn: 7.0000 - val_accuracy: 0.9983 - val_precision: 0.9916 - val_recall: 0.9806 - val_auc: 0.9999 - val_prc: 0.9984\n",
            "Epoch 4/6\n",
            "398/398 [==============================] - 36s 89ms/step - loss: 0.0023 - tp: 501.0000 - fp: 4.0000 - tn: 11411.0000 - fn: 4.0000 - accuracy: 0.9993 - precision: 0.9921 - recall: 0.9921 - auc: 1.0000 - prc: 0.9994 - val_loss: 0.0059 - val_tp: 354.0000 - val_fp: 10.0000 - val_tn: 5589.0000 - val_fn: 7.0000 - val_accuracy: 0.9971 - val_precision: 0.9725 - val_recall: 0.9806 - val_auc: 0.9999 - val_prc: 0.9989\n",
            "Epoch 5/6\n",
            "398/398 [==============================] - 34s 85ms/step - loss: 0.0011 - tp: 503.0000 - fp: 3.0000 - tn: 11412.0000 - fn: 2.0000 - accuracy: 0.9996 - precision: 0.9941 - recall: 0.9960 - auc: 1.0000 - prc: 0.9999 - val_loss: 0.0078 - val_tp: 345.0000 - val_fp: 1.0000 - val_tn: 5598.0000 - val_fn: 16.0000 - val_accuracy: 0.9971 - val_precision: 0.9971 - val_recall: 0.9557 - val_auc: 0.9999 - val_prc: 0.9987\n",
            "Epoch 6/6\n",
            "398/398 [==============================] - 34s 84ms/step - loss: 6.9490e-04 - tp: 503.0000 - fp: 2.0000 - tn: 11413.0000 - fn: 2.0000 - accuracy: 0.9997 - precision: 0.9960 - recall: 0.9960 - auc: 1.0000 - prc: 1.0000 - val_loss: 0.0066 - val_tp: 351.0000 - val_fp: 5.0000 - val_tn: 5594.0000 - val_fn: 10.0000 - val_accuracy: 0.9975 - val_precision: 0.9860 - val_recall: 0.9723 - val_auc: 0.9972 - val_prc: 0.9946\n"
          ]
        }
      ]
    },
    {
      "cell_type": "code",
      "source": [
        "def predict(m,fake_job_post):\n",
        "  input = fake_job_post.replace('\\n',' ').replace('\\r',' ').replace('\\t',' ')\n",
        "  input = re.sub(r'[0-9]',' ',input)\n",
        "  input = re.sub(r'[/(){}\\[\\]\\|@,;.:-]',' ',input)\n",
        "  input = input.lower()\n",
        "  input = \" \".join(input.split())\n",
        "  input = ' '.join([word for word in input.split() if word not in (stop_words)])\n",
        "\n",
        "  one_hot_input = one_hot(input,5000)\n",
        "  embedded = pad_sequences([one_hot_input],maxlen=max_l)\n",
        "\n",
        "  pred = m.predict(embedded)\n",
        "  print(pred)\n",
        "\n",
        "  if(pred > 0.5): return \"This job posting its FAKE\"\n",
        "  return \"This job posting its TRUE\"   "
      ],
      "metadata": {
        "id": "S9djSMP7t81Z"
      },
      "execution_count": 23,
      "outputs": []
    },
    {
      "cell_type": "markdown",
      "source": [
        "##**Descripción de trabajo verdadera**\n",
        "\n",
        "Software Developer\n",
        "\n",
        "Job Description: We are seeking a highly skilled software developer to join our development team. You will be responsible for designing, developing, and maintaining high-quality software applications. Strong knowledge of programming languages such as Python and experience in web application development are required. We also value database skills and familiarity with development frameworks such as Django. You will work closely with our team of engineers to create innovative and scalable technology solutions. If you are passionate about coding and enjoy tackling technical challenges, this position is for you!\n",
        "\n",
        "Job Requirements:\n",
        "\n",
        "Demonstrable experience in software development using Python.\n",
        "Strong knowledge of programming languages such as Java, C++, or Ruby.\n",
        "Experience in web application development using frameworks like Django or Flask.\n",
        "Proficiency in relational databases such as MySQL or PostgreSQL.\n",
        "Problem-solving skills and ability to work in a team.\n",
        "Ability to quickly learn new technologies and adapt to changing environments.\n",
        "We offer a dynamic and challenging work environment, professional growth opportunities, and a highly collaborative team. If you are seeking a new challenge in the field of software development, we look forward to receiving your application!\"\n",
        "\n",
        "You can use this job description as input in your model to evaluate whether it is classified as true or false. Remember that the model should have been trained on a labeled dataset in order to make accurate predictions."
      ],
      "metadata": {
        "id": "3mjy1kpr2tt3"
      }
    },
    {
      "cell_type": "code",
      "source": [
        "predict(model, \"Software Developer Job Description: We are seeking a highly skilled software developer to join our development team. You will be responsible for designing, developing, and maintaining high-quality software applications. Strong knowledge of programming languages such as Python and experience in web application development are required. We also value database skills and familiarity with development frameworks such as Django. You will work closely with our team of engineers to create innovative and scalable technology solutions. If you are passionate about coding and enjoy tackling technical challenges, this position is for you! Job Requirements: Demonstrable experience in software development using Python. Strong knowledge of programming languages such as Java, C++, or Ruby. Experience in web application development using frameworks like Django or Flask. Proficiency in relational databases such as MySQL or PostgreSQL. Problem-solving skills and ability to work in a team. Ability to quickly learn new technologies and adapt to changing environments. We offer a dynamic and challenging work environment, professional growth opportunities, and a highly collaborative team. If you are seeking a new challenge in the field of software development, we look forward to receiving your application! You can use this job description as input in your model to evaluate whether it is classified as true or false. Remember that the model should have been trained on a labeled dataset in order to make accurate predictions\")"
      ],
      "metadata": {
        "id": "B_vT9bhvljba",
        "outputId": "d0135431-8b06-40a3-a88c-f580b07b6429",
        "colab": {
          "base_uri": "https://localhost:8080/",
          "height": 71
        }
      },
      "execution_count": 29,
      "outputs": [
        {
          "output_type": "stream",
          "name": "stdout",
          "text": [
            "1/1 [==============================] - 0s 31ms/step\n",
            "[[4.2903477e-05]]\n"
          ]
        },
        {
          "output_type": "execute_result",
          "data": {
            "text/plain": [
              "'This job posting its TRUE'"
            ],
            "application/vnd.google.colaboratory.intrinsic+json": {
              "type": "string"
            }
          },
          "metadata": {},
          "execution_count": 29
        }
      ]
    },
    {
      "cell_type": "markdown",
      "source": [
        "## **Descripción de trabajo falso**\n",
        "\n",
        "As coronavirus_are increasing, so have the number of companies asking their employees to stay at home\n",
        "As travelers cancel flights and stocks fall, a global health pandemic now has become a global economic crisis\n",
        "In any health pandemic, our first concern us what the health of those affected,\n",
        "COVID-19 has brought about many more death worldwide and more and more cases are being confirmed daily counties the World\n",
        "But unfortunately, the economic impacts also have dramatic effects on the wellbeing of families and communities\n",
        "Although traditional forms of tutoring, including face.to.face lessons and residential placements remain as popular as ever, has also been gaming\n",
        "traction over the last few years\n",
        "With a distinct use in online tuition websites, many tutors have begun to work exclusively online and some schools have even started offering online programs\n",
        "As the world comes together to solve this coronavirus pandemic, the demand for online tuition has also become more and more In demand\n",
        "Click here and find out how to work from home as an online tutor\n",
        "Here\n",
        "Best Regards\n",
        "Emmanuel\n",
        "\n"
      ],
      "metadata": {
        "id": "6tDSiZ_j2-ui"
      }
    },
    {
      "cell_type": "code",
      "source": [
        "predict(model, \"As coronavirus_are increasing, so have the number of companies asking their employees to stay at home As travelers cancel flights and stocks fall, a global health pandemic now has become a global economic crisis In any health pandemic, our first concern us what the health of those affected, COVID-19 has brought about many more death worldwide and more and more cases are being confirmed daily counties the World But unfortunately, the economic impacts also have dramatic effects on the wellbeing of families and communities Although traditional forms of tutoring, including face.to.face lessons and residential placements remain as popular as ever, has also been gaming traction over the last few years With a distinct use in online tuition websites, many tutors have begun to work exclusively online and some schools have even started offering online programs As the world comes together to solve this coronavirus pandemic, the demand for online tuition has also become more and more In demand Click here and find out how to work from home as an online tutor Here Best Regards Emmanuel\")"
      ],
      "metadata": {
        "id": "ok_e_CfWxGc5",
        "outputId": "628d5ec4-198b-436d-a2e0-f9515719bcd6",
        "colab": {
          "base_uri": "https://localhost:8080/",
          "height": 71
        }
      },
      "execution_count": 31,
      "outputs": [
        {
          "output_type": "stream",
          "name": "stdout",
          "text": [
            "1/1 [==============================] - 0s 32ms/step\n",
            "[[0.9999918]]\n"
          ]
        },
        {
          "output_type": "execute_result",
          "data": {
            "text/plain": [
              "'This job posting its FAKE'"
            ],
            "application/vnd.google.colaboratory.intrinsic+json": {
              "type": "string"
            }
          },
          "metadata": {},
          "execution_count": 31
        }
      ]
    }
  ]
}